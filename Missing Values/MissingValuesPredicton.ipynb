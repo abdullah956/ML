{
 "cells": [
  {
   "cell_type": "code",
   "execution_count": 1,
   "metadata": {},
   "outputs": [],
   "source": [
    "import pandas as pd\n",
    "import numpy as np\n",
    "import joblib\n",
    "model= joblib.load(r'Models/model.pickle')\n",
    "scaler= joblib.load(r'Scalers/scaler.pickle')"
   ]
  },
  {
   "cell_type": "code",
   "execution_count": 2,
   "metadata": {},
   "outputs": [],
   "source": [
    "Name=input('Name :')\n",
    "OverAllGrade=input('OverAllGrade :')\n",
    "Obedient=input('Obedient :')\n",
    "ResearchScore=input('ResearchScore :')\n",
    "ProjectScore=input('ProjectScore :')\n",
    "\n",
    "NewStudentRecord=pd.DataFrame([{'name':Name,'overallgrade':OverAllGrade,'obedient':Obedient,'researchscore':ResearchScore,'projectscore':ProjectScore}])"
   ]
  },
  {
   "cell_type": "code",
   "execution_count": 3,
   "metadata": {},
   "outputs": [
    {
     "data": {
      "text/html": [
       "<div>\n",
       "<style scoped>\n",
       "    .dataframe tbody tr th:only-of-type {\n",
       "        vertical-align: middle;\n",
       "    }\n",
       "\n",
       "    .dataframe tbody tr th {\n",
       "        vertical-align: top;\n",
       "    }\n",
       "\n",
       "    .dataframe thead th {\n",
       "        text-align: right;\n",
       "    }\n",
       "</style>\n",
       "<table border=\"1\" class=\"dataframe\">\n",
       "  <thead>\n",
       "    <tr style=\"text-align: right;\">\n",
       "      <th></th>\n",
       "      <th>name</th>\n",
       "      <th>overallgrade</th>\n",
       "      <th>obedient</th>\n",
       "      <th>researchscore</th>\n",
       "      <th>projectscore</th>\n",
       "    </tr>\n",
       "  </thead>\n",
       "  <tbody>\n",
       "    <tr>\n",
       "      <th>0</th>\n",
       "      <td>abdullah</td>\n",
       "      <td>A</td>\n",
       "      <td>Y</td>\n",
       "      <td>49</td>\n",
       "      <td>90</td>\n",
       "    </tr>\n",
       "  </tbody>\n",
       "</table>\n",
       "</div>"
      ],
      "text/plain": [
       "       name overallgrade obedient researchscore projectscore\n",
       "0  abdullah            A        Y            49           90"
      ]
     },
     "execution_count": 3,
     "metadata": {},
     "output_type": "execute_result"
    }
   ],
   "source": [
    "NewStudentRecord"
   ]
  },
  {
   "cell_type": "code",
   "execution_count": 4,
   "metadata": {},
   "outputs": [
    {
     "name": "stderr",
     "output_type": "stream",
     "text": [
      "C:\\Users\\SoNiC\\AppData\\Local\\Temp\\ipykernel_6552\\2818239390.py:2: SettingWithCopyWarning: \n",
      "A value is trying to be set on a copy of a slice from a DataFrame.\n",
      "Try using .loc[row_indexer,col_indexer] = value instead\n",
      "\n",
      "See the caveats in the documentation: https://pandas.pydata.org/pandas-docs/stable/user_guide/indexing.html#returning-a-view-versus-a-copy\n",
      "  NewFeatures[['researchscore','projectscore']]=scaler.transform(NewFeatures[['researchscore','projectscore']])\n"
     ]
    }
   ],
   "source": [
    "\n",
    "NewFeatures=NewStudentRecord[['overallgrade','obedient','researchscore','projectscore']]\n",
    "NewFeatures[['researchscore','projectscore']]=scaler.transform(NewFeatures[['researchscore','projectscore']])"
   ]
  },
  {
   "cell_type": "code",
   "execution_count": 5,
   "metadata": {},
   "outputs": [],
   "source": [
    "NewFeatures=pd.get_dummies(NewFeatures,columns=['overallgrade','obedient'])"
   ]
  },
  {
   "cell_type": "code",
   "execution_count": 6,
   "metadata": {},
   "outputs": [
    {
     "data": {
      "text/plain": [
       "['overallgrade_A',\n",
       " 'overallgrade_B',\n",
       " 'overallgrade_C',\n",
       " 'overallgrade_E',\n",
       " 'overallgrade_F',\n",
       " 'obedient_Y',\n",
       " 'obedient_N']"
      ]
     },
     "execution_count": 6,
     "metadata": {},
     "output_type": "execute_result"
    }
   ],
   "source": [
    "NewFeatures\n",
    "RequiredCategoricalColumns=['overallgrade_A','overallgrade_B','overallgrade_C','overallgrade_E','overallgrade_F','obedient_Y','obedient_N']\n",
    "RequiredCategoricalColumns"
   ]
  },
  {
   "cell_type": "code",
   "execution_count": 7,
   "metadata": {},
   "outputs": [
    {
     "data": {
      "text/plain": [
       "{'obedient_Y', 'overallgrade_A'}"
      ]
     },
     "execution_count": 7,
     "metadata": {},
     "output_type": "execute_result"
    }
   ],
   "source": [
    "CurrentCategoricalColumns= set(NewFeatures.columns)-set(NewFeatures[['researchscore','projectscore']])\n",
    "CurrentCategoricalColumns"
   ]
  },
  {
   "cell_type": "code",
   "execution_count": 8,
   "metadata": {},
   "outputs": [
    {
     "data": {
      "text/plain": [
       "{'obedient_N',\n",
       " 'overallgrade_B',\n",
       " 'overallgrade_C',\n",
       " 'overallgrade_E',\n",
       " 'overallgrade_F'}"
      ]
     },
     "execution_count": 8,
     "metadata": {},
     "output_type": "execute_result"
    }
   ],
   "source": [
    "MissingCategoricalColumns=set(RequiredCategoricalColumns)-set(CurrentCategoricalColumns)\n",
    "MissingCategoricalColumns"
   ]
  },
  {
   "cell_type": "code",
   "execution_count": 9,
   "metadata": {},
   "outputs": [
    {
     "data": {
      "text/html": [
       "<div>\n",
       "<style scoped>\n",
       "    .dataframe tbody tr th:only-of-type {\n",
       "        vertical-align: middle;\n",
       "    }\n",
       "\n",
       "    .dataframe tbody tr th {\n",
       "        vertical-align: top;\n",
       "    }\n",
       "\n",
       "    .dataframe thead th {\n",
       "        text-align: right;\n",
       "    }\n",
       "</style>\n",
       "<table border=\"1\" class=\"dataframe\">\n",
       "  <thead>\n",
       "    <tr style=\"text-align: right;\">\n",
       "      <th></th>\n",
       "      <th>researchscore</th>\n",
       "      <th>projectscore</th>\n",
       "      <th>overallgrade_A</th>\n",
       "      <th>obedient_Y</th>\n",
       "      <th>obedient_N</th>\n",
       "      <th>overallgrade_B</th>\n",
       "      <th>overallgrade_E</th>\n",
       "      <th>overallgrade_F</th>\n",
       "      <th>overallgrade_C</th>\n",
       "    </tr>\n",
       "  </thead>\n",
       "  <tbody>\n",
       "    <tr>\n",
       "      <th>0</th>\n",
       "      <td>-0.254686</td>\n",
       "      <td>2.194854</td>\n",
       "      <td>1</td>\n",
       "      <td>1</td>\n",
       "      <td>0</td>\n",
       "      <td>0</td>\n",
       "      <td>0</td>\n",
       "      <td>0</td>\n",
       "      <td>0</td>\n",
       "    </tr>\n",
       "  </tbody>\n",
       "</table>\n",
       "</div>"
      ],
      "text/plain": [
       "   researchscore  projectscore  overallgrade_A  obedient_Y  obedient_N  \\\n",
       "0      -0.254686      2.194854               1           1           0   \n",
       "\n",
       "   overallgrade_B  overallgrade_E  overallgrade_F  overallgrade_C  \n",
       "0               0               0               0               0  "
      ]
     },
     "execution_count": 9,
     "metadata": {},
     "output_type": "execute_result"
    }
   ],
   "source": [
    "for features in MissingCategoricalColumns:\n",
    "    NewFeatures[features]=0\n",
    "NewFeatures\n"
   ]
  },
  {
   "cell_type": "code",
   "execution_count": 10,
   "metadata": {},
   "outputs": [],
   "source": [
    "NewFeatures2 = NewFeatures.reindex(columns=[\"researchscore\",\t\"projectscore\",\t\"overallgrade_A\",\t\"overallgrade_B\",\t\"overallgrade_C\",\t\"overallgrade_E\",\t\"overallgrade_F\",\t\"obedient_N\",\t\"obedient_Y\"])"
   ]
  },
  {
   "cell_type": "code",
   "execution_count": 11,
   "metadata": {},
   "outputs": [
    {
     "data": {
      "text/html": [
       "<div>\n",
       "<style scoped>\n",
       "    .dataframe tbody tr th:only-of-type {\n",
       "        vertical-align: middle;\n",
       "    }\n",
       "\n",
       "    .dataframe tbody tr th {\n",
       "        vertical-align: top;\n",
       "    }\n",
       "\n",
       "    .dataframe thead th {\n",
       "        text-align: right;\n",
       "    }\n",
       "</style>\n",
       "<table border=\"1\" class=\"dataframe\">\n",
       "  <thead>\n",
       "    <tr style=\"text-align: right;\">\n",
       "      <th></th>\n",
       "      <th>researchscore</th>\n",
       "      <th>projectscore</th>\n",
       "      <th>overallgrade_A</th>\n",
       "      <th>overallgrade_B</th>\n",
       "      <th>overallgrade_C</th>\n",
       "      <th>overallgrade_E</th>\n",
       "      <th>overallgrade_F</th>\n",
       "      <th>obedient_N</th>\n",
       "      <th>obedient_Y</th>\n",
       "    </tr>\n",
       "  </thead>\n",
       "  <tbody>\n",
       "    <tr>\n",
       "      <th>0</th>\n",
       "      <td>-0.254686</td>\n",
       "      <td>2.194854</td>\n",
       "      <td>1</td>\n",
       "      <td>0</td>\n",
       "      <td>0</td>\n",
       "      <td>0</td>\n",
       "      <td>0</td>\n",
       "      <td>0</td>\n",
       "      <td>1</td>\n",
       "    </tr>\n",
       "  </tbody>\n",
       "</table>\n",
       "</div>"
      ],
      "text/plain": [
       "   researchscore  projectscore  overallgrade_A  overallgrade_B  \\\n",
       "0      -0.254686      2.194854               1               0   \n",
       "\n",
       "   overallgrade_C  overallgrade_E  overallgrade_F  obedient_N  obedient_Y  \n",
       "0               0               0               0           0           1  "
      ]
     },
     "execution_count": 11,
     "metadata": {},
     "output_type": "execute_result"
    }
   ],
   "source": [
    "NewFeatures2\n"
   ]
  },
  {
   "cell_type": "code",
   "execution_count": 12,
   "metadata": {},
   "outputs": [
    {
     "data": {
      "text/plain": [
       "array(['No'], dtype=object)"
      ]
     },
     "execution_count": 12,
     "metadata": {},
     "output_type": "execute_result"
    }
   ],
   "source": [
    "prediction=model.predict(NewFeatures2)\n",
    "prediction"
   ]
  },
  {
   "cell_type": "code",
   "execution_count": 13,
   "metadata": {},
   "outputs": [],
   "source": [
    "NewStudentRecord['recommend']=prediction"
   ]
  },
  {
   "cell_type": "code",
   "execution_count": 14,
   "metadata": {},
   "outputs": [
    {
     "data": {
      "text/html": [
       "<div>\n",
       "<style scoped>\n",
       "    .dataframe tbody tr th:only-of-type {\n",
       "        vertical-align: middle;\n",
       "    }\n",
       "\n",
       "    .dataframe tbody tr th {\n",
       "        vertical-align: top;\n",
       "    }\n",
       "\n",
       "    .dataframe thead th {\n",
       "        text-align: right;\n",
       "    }\n",
       "</style>\n",
       "<table border=\"1\" class=\"dataframe\">\n",
       "  <thead>\n",
       "    <tr style=\"text-align: right;\">\n",
       "      <th></th>\n",
       "      <th>name</th>\n",
       "      <th>overallgrade</th>\n",
       "      <th>obedient</th>\n",
       "      <th>researchscore</th>\n",
       "      <th>projectscore</th>\n",
       "      <th>recommend</th>\n",
       "    </tr>\n",
       "  </thead>\n",
       "  <tbody>\n",
       "    <tr>\n",
       "      <th>0</th>\n",
       "      <td>abdullah</td>\n",
       "      <td>A</td>\n",
       "      <td>Y</td>\n",
       "      <td>49</td>\n",
       "      <td>90</td>\n",
       "      <td>No</td>\n",
       "    </tr>\n",
       "  </tbody>\n",
       "</table>\n",
       "</div>"
      ],
      "text/plain": [
       "       name overallgrade obedient researchscore projectscore recommend\n",
       "0  abdullah            A        Y            49           90        No"
      ]
     },
     "execution_count": 14,
     "metadata": {},
     "output_type": "execute_result"
    }
   ],
   "source": [
    "NewStudentRecord"
   ]
  }
 ],
 "metadata": {
  "kernelspec": {
   "display_name": "Python 3",
   "language": "python",
   "name": "python3"
  },
  "language_info": {
   "codemirror_mode": {
    "name": "ipython",
    "version": 3
   },
   "file_extension": ".py",
   "mimetype": "text/x-python",
   "name": "python",
   "nbconvert_exporter": "python",
   "pygments_lexer": "ipython3",
   "version": "3.11.2"
  },
  "orig_nbformat": 4
 },
 "nbformat": 4,
 "nbformat_minor": 2
}
