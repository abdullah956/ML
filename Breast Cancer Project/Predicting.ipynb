{
 "cells": [
  {
   "cell_type": "code",
   "execution_count": 5,
   "metadata": {},
   "outputs": [],
   "source": [
    "import pandas as pd\n",
    "import numpy as np\n",
    "import joblib\n",
    "model= joblib.load(r'Models/model.pickle')\n",
    "scaler= joblib.load(r'Scalers/scaler.pickle')"
   ]
  },
  {
   "cell_type": "markdown",
   "metadata": {},
   "source": [
    "1. here importing some modules we are going to use along side our model which we saved."
   ]
  },
  {
   "cell_type": "code",
   "execution_count": 6,
   "metadata": {},
   "outputs": [],
   "source": [
    "radius_mean = input('radius_mean: ')\n",
    "texture_mean = input('texture_mean: ')\n",
    "perimeter_mean = input('perimeter_mean: ')\n",
    "area_mean = input('area_mean: ')\n",
    "smoothness_mean = input('smoothness_mean: ')\n",
    "compactness_mean = input('compactness_mean: ')\n",
    "concavity_mean = input('concavity_mean: ')\n",
    "concave_points_mean = input('concave points_mean: ')\n",
    "symmetry_mean = input('symmetry_mean: ')\n",
    "fractal_dimension_mean = input('fractal_dimension_mean: ')\n",
    "radius_se = input('radius_se: ')\n",
    "texture_se = input('texture_se: ')\n",
    "perimeter_se = input('perimeter_se: ')\n",
    "area_se = input('area_se: ')\n",
    "smoothness_se = input('smoothness_se: ')\n",
    "compactness_se = input('compactness_se: ')\n",
    "concavity_se = input('concavity_se: ')\n",
    "concave_points_se = input('concave points_se: ')\n",
    "symmetry_se = input('symmetry_se: ')\n",
    "fractal_dimension_se = input('fractal_dimension_se: ')\n",
    "radius_worst = input('radius_worst: ')\n",
    "texture_worst = input('texture_worst: ')\n",
    "perimeter_worst = input('perimeter_worst: ')\n",
    "area_worst = input('area_worst: ')\n",
    "smoothness_worst = input('smoothness_worst: ')\n",
    "compactness_worst = input('compactness_worst: ')\n",
    "concavity_worst = input('concavity_worst: ')\n",
    "concave_points_worst = input('concave points_worst: ')\n",
    "symmetry_worst = input('symmetry_worst: ')\n",
    "fractal_dimension_worst = input('fractal_dimension_worst: ')\n",
    "\n",
    "BreastCancer= pd.DataFrame([{\n",
    "    'radius_mean': radius_mean,\n",
    "    'texture_mean': texture_mean,\n",
    "    'perimeter_mean': perimeter_mean,\n",
    "    'area_mean': area_mean,\n",
    "    'smoothness_mean': smoothness_mean,\n",
    "    'compactness_mean': compactness_mean,\n",
    "    'concavity_mean': concavity_mean,\n",
    "    'concave points_mean': concave_points_mean,\n",
    "    'symmetry_mean': symmetry_mean,\n",
    "    'fractal_dimension_mean': fractal_dimension_mean,\n",
    "    'radius_se': radius_se,\n",
    "    'texture_se': texture_se,\n",
    "    'perimeter_se': perimeter_se,\n",
    "    'area_se': area_se,\n",
    "    'smoothness_se': smoothness_se,\n",
    "    'compactness_se': compactness_se,\n",
    "    'concavity_se': concavity_se,\n",
    "    'concave points_se': concave_points_se,\n",
    "    'symmetry_se': symmetry_se,\n",
    "    'fractal_dimension_se': fractal_dimension_se,\n",
    "    'radius_worst': radius_worst,\n",
    "    'texture_worst': texture_worst,\n",
    "    'perimeter_worst': perimeter_worst,\n",
    "    'area_worst': area_worst,\n",
    "    'smoothness_worst': smoothness_worst,\n",
    "    'compactness_worst': compactness_worst,\n",
    "    'concavity_worst': concavity_worst,\n",
    "    'concave points_worst': concave_points_worst,\n",
    "    'symmetry_worst': symmetry_worst,\n",
    "    'fractal_dimension_worst': fractal_dimension_worst\n",
    "}])"
   ]
  },
  {
   "cell_type": "markdown",
   "metadata": {},
   "source": [
    "2. taking input and creating a dataframe"
   ]
  },
  {
   "cell_type": "code",
   "execution_count": 7,
   "metadata": {},
   "outputs": [
    {
     "data": {
      "text/html": [
       "<div>\n",
       "<style scoped>\n",
       "    .dataframe tbody tr th:only-of-type {\n",
       "        vertical-align: middle;\n",
       "    }\n",
       "\n",
       "    .dataframe tbody tr th {\n",
       "        vertical-align: top;\n",
       "    }\n",
       "\n",
       "    .dataframe thead th {\n",
       "        text-align: right;\n",
       "    }\n",
       "</style>\n",
       "<table border=\"1\" class=\"dataframe\">\n",
       "  <thead>\n",
       "    <tr style=\"text-align: right;\">\n",
       "      <th></th>\n",
       "      <th>radius_mean</th>\n",
       "      <th>texture_mean</th>\n",
       "      <th>perimeter_mean</th>\n",
       "      <th>area_mean</th>\n",
       "      <th>smoothness_mean</th>\n",
       "      <th>compactness_mean</th>\n",
       "      <th>concavity_mean</th>\n",
       "      <th>concave points_mean</th>\n",
       "      <th>symmetry_mean</th>\n",
       "      <th>fractal_dimension_mean</th>\n",
       "      <th>...</th>\n",
       "      <th>radius_worst</th>\n",
       "      <th>texture_worst</th>\n",
       "      <th>perimeter_worst</th>\n",
       "      <th>area_worst</th>\n",
       "      <th>smoothness_worst</th>\n",
       "      <th>compactness_worst</th>\n",
       "      <th>concavity_worst</th>\n",
       "      <th>concave points_worst</th>\n",
       "      <th>symmetry_worst</th>\n",
       "      <th>fractal_dimension_worst</th>\n",
       "    </tr>\n",
       "  </thead>\n",
       "  <tbody>\n",
       "    <tr>\n",
       "      <th>0</th>\n",
       "      <td>1</td>\n",
       "      <td>1</td>\n",
       "      <td>1</td>\n",
       "      <td>1</td>\n",
       "      <td>1</td>\n",
       "      <td>1</td>\n",
       "      <td>1</td>\n",
       "      <td>1</td>\n",
       "      <td>1</td>\n",
       "      <td>1</td>\n",
       "      <td>...</td>\n",
       "      <td>1</td>\n",
       "      <td>1</td>\n",
       "      <td>1</td>\n",
       "      <td>1</td>\n",
       "      <td>1</td>\n",
       "      <td>1</td>\n",
       "      <td>1</td>\n",
       "      <td>1</td>\n",
       "      <td>1</td>\n",
       "      <td>1</td>\n",
       "    </tr>\n",
       "  </tbody>\n",
       "</table>\n",
       "<p>1 rows × 30 columns</p>\n",
       "</div>"
      ],
      "text/plain": [
       "  radius_mean texture_mean perimeter_mean area_mean smoothness_mean  \\\n",
       "0           1            1              1         1               1   \n",
       "\n",
       "  compactness_mean concavity_mean concave points_mean symmetry_mean  \\\n",
       "0                1              1                   1             1   \n",
       "\n",
       "  fractal_dimension_mean  ... radius_worst texture_worst perimeter_worst  \\\n",
       "0                      1  ...            1             1               1   \n",
       "\n",
       "  area_worst smoothness_worst compactness_worst concavity_worst  \\\n",
       "0          1                1                 1               1   \n",
       "\n",
       "  concave points_worst symmetry_worst fractal_dimension_worst  \n",
       "0                    1              1                       1  \n",
       "\n",
       "[1 rows x 30 columns]"
      ]
     },
     "execution_count": 7,
     "metadata": {},
     "output_type": "execute_result"
    }
   ],
   "source": [
    "BreastCancer"
   ]
  },
  {
   "cell_type": "markdown",
   "metadata": {},
   "source": [
    "3. inputted data"
   ]
  },
  {
   "cell_type": "code",
   "execution_count": 8,
   "metadata": {},
   "outputs": [],
   "source": [
    "columns = BreastCancer[['radius_mean', 'texture_mean', 'perimeter_mean', 'area_mean',\n",
    "                     'smoothness_mean', 'compactness_mean', 'concavity_mean', 'concave points_mean',\n",
    "                     'symmetry_mean', 'fractal_dimension_mean', 'radius_se', 'texture_se',\n",
    "                     'perimeter_se', 'area_se', 'smoothness_se', 'compactness_se', 'concavity_se',\n",
    "                     'concave points_se', 'symmetry_se', 'fractal_dimension_se', 'radius_worst',\n",
    "                     'texture_worst', 'perimeter_worst', 'area_worst', 'smoothness_worst',\n",
    "                     'compactness_worst', 'concavity_worst', 'concave points_worst',\n",
    "                     'symmetry_worst', 'fractal_dimension_worst']]\n",
    "BreastCancer[['radius_mean', 'texture_mean', 'perimeter_mean', 'area_mean',\n",
    "                     'smoothness_mean', 'compactness_mean', 'concavity_mean', 'concave points_mean',\n",
    "                     'symmetry_mean', 'fractal_dimension_mean', 'radius_se', 'texture_se',\n",
    "                     'perimeter_se', 'area_se', 'smoothness_se', 'compactness_se', 'concavity_se',\n",
    "                     'concave points_se', 'symmetry_se', 'fractal_dimension_se', 'radius_worst',\n",
    "                     'texture_worst', 'perimeter_worst', 'area_worst', 'smoothness_worst',\n",
    "                     'compactness_worst', 'concavity_worst', 'concave points_worst',\n",
    "                     'symmetry_worst', 'fractal_dimension_worst']] = scaler.fit_transform(columns[['radius_mean', 'texture_mean', 'perimeter_mean', 'area_mean',\n",
    "                     'smoothness_mean', 'compactness_mean', 'concavity_mean', 'concave points_mean',\n",
    "                     'symmetry_mean', 'fractal_dimension_mean', 'radius_se', 'texture_se',\n",
    "                     'perimeter_se', 'area_se', 'smoothness_se', 'compactness_se', 'concavity_se',\n",
    "                     'concave points_se', 'symmetry_se', 'fractal_dimension_se', 'radius_worst',\n",
    "                     'texture_worst', 'perimeter_worst', 'area_worst', 'smoothness_worst',\n",
    "                     'compactness_worst', 'concavity_worst', 'concave points_worst',\n",
    "                     'symmetry_worst', 'fractal_dimension_worst']])"
   ]
  },
  {
   "cell_type": "markdown",
   "metadata": {},
   "source": [
    "4. just scaling the data inputted by loading our scalar."
   ]
  },
  {
   "cell_type": "code",
   "execution_count": 9,
   "metadata": {},
   "outputs": [
    {
     "name": "stderr",
     "output_type": "stream",
     "text": [
      "c:\\Users\\PMLS\\AppData\\Local\\Programs\\Python\\Python312\\Lib\\site-packages\\sklearn\\base.py:458: UserWarning: X has feature names, but LogisticRegression was fitted without feature names\n",
      "  warnings.warn(\n"
     ]
    },
    {
     "data": {
      "text/plain": [
       "array([1])"
      ]
     },
     "execution_count": 9,
     "metadata": {},
     "output_type": "execute_result"
    }
   ],
   "source": [
    "prediction=model.predict(BreastCancer)\n",
    "prediction"
   ]
  }
 ],
 "metadata": {
  "kernelspec": {
   "display_name": "Python 3",
   "language": "python",
   "name": "python3"
  },
  "language_info": {
   "codemirror_mode": {
    "name": "ipython",
    "version": 3
   },
   "file_extension": ".py",
   "mimetype": "text/x-python",
   "name": "python",
   "nbconvert_exporter": "python",
   "pygments_lexer": "ipython3",
   "version": "3.12.0"
  }
 },
 "nbformat": 4,
 "nbformat_minor": 2
}
